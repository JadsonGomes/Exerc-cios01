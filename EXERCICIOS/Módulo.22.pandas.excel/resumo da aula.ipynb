{
 "cells": [
  {
   "cell_type": "code",
   "execution_count": 16,
   "metadata": {},
   "outputs": [
    {
     "data": {
      "text/plain": [
       "0          86\n",
       "1         308\n",
       "2         294\n",
       "3         251\n",
       "4          94\n",
       "         ... \n",
       "980637    194\n",
       "980638     32\n",
       "980639    210\n",
       "980640     53\n",
       "980641    309\n",
       "Name: ID Loja, Length: 980642, dtype: int64"
      ]
     },
     "execution_count": 16,
     "metadata": {},
     "output_type": "execute_result"
    }
   ],
   "source": [
    "#Aula 04 DataFrame do Pandas\n",
    "import pandas as pd \n",
    "\n",
    "vendas_df = pd.read_csv ('Contoso - vendas - 2017.csv', sep=';')\n",
    "\n",
    "vendas_df ['ID Loja']"
   ]
  },
  {
   "cell_type": "code",
   "execution_count": null,
   "metadata": {},
   "outputs": [],
   "source": []
  }
 ],
 "metadata": {
  "kernelspec": {
   "display_name": "Python 3",
   "language": "python",
   "name": "python3"
  },
  "language_info": {
   "codemirror_mode": {
    "name": "ipython",
    "version": 3
   },
   "file_extension": ".py",
   "mimetype": "text/x-python",
   "name": "python",
   "nbconvert_exporter": "python",
   "pygments_lexer": "ipython3",
   "version": "3.12.0"
  }
 },
 "nbformat": 4,
 "nbformat_minor": 2
}
